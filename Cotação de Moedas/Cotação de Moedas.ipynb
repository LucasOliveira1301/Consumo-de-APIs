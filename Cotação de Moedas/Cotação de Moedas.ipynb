{
 "cells": [
  {
   "cell_type": "markdown",
   "metadata": {},
   "source": [
    "### Pegar a Cotação Atual de Todas as Moedas "
   ]
  },
  {
   "cell_type": "code",
   "execution_count": 6,
   "metadata": {},
   "outputs": [
    {
     "name": "stdout",
     "output_type": "stream",
     "text": [
      "{'USDBRL': {'code': 'USD', 'codein': 'BRL', 'name': 'Dólar Americano/Real Brasileiro', 'high': '5.3566', 'low': '5.2895', 'varBid': '0.0037', 'pctChange': '0.07', 'bid': '5.3064', 'ask': '5.3074', 'timestamp': '1666709116', 'create_date': '2022-10-25 11:45:16'}, 'EURBRL': {'code': 'EUR', 'codein': 'BRL', 'name': 'Euro/Real Brasileiro', 'high': '5.3046', 'low': '5.2165', 'varBid': '0.0478', 'pctChange': '0.91', 'bid': '5.2828', 'ask': '5.2856', 'timestamp': '1666709088', 'create_date': '2022-10-25 11:44:48'}, 'BTCBRL': {'code': 'BTC', 'codein': 'BRL', 'name': 'Bitcoin/Real Brasileiro', 'high': '103.241', 'low': '101.5', 'varBid': '919', 'pctChange': '0.9', 'bid': '102.822', 'ask': '103.017', 'timestamp': '1666709084', 'create_date': '2022-10-25 11:44:44'}}\n"
     ]
    }
   ],
   "source": [
    "import requests \n",
    "import json \n",
    "\n",
    "cotacoes = requests.get('https://economia.awesomeapi.com.br/last/USD-BRL,EUR-BRL,BTC-BRL')\n",
    "cotacoes_dic = cotacoes.json()\n",
    "print(cotacoes_dic)\n"
   ]
  },
  {
   "cell_type": "markdown",
   "metadata": {},
   "source": [
    "### Última cotação do Dólar, do Euro e do BitCoin"
   ]
  },
  {
   "cell_type": "code",
   "execution_count": 7,
   "metadata": {},
   "outputs": [
    {
     "name": "stdout",
     "output_type": "stream",
     "text": [
      "Dólar: R$5.3064 \n",
      "Euro: R$5.2828 \n",
      "BitCoin: R$102.822 \n"
     ]
    }
   ],
   "source": [
    "print('Dólar: R${} '.format(cotacoes_dic['USDBRL']['bid']))\n",
    "print('Euro: R${} '.format(cotacoes_dic['EURBRL']['bid']))\n",
    "print('BitCoin: R${} '.format(cotacoes_dic['BTCBRL']['bid']))"
   ]
  },
  {
   "cell_type": "markdown",
   "metadata": {},
   "source": [
    "### Pegar a cotação dos últimos 30 dias do dólar "
   ]
  },
  {
   "cell_type": "code",
   "execution_count": 8,
   "metadata": {},
   "outputs": [
    {
     "name": "stdout",
     "output_type": "stream",
     "text": [
      "0 - 5.1171\n",
      "1 - 5.1639\n",
      "2 - 5.1639\n",
      "3 - 5.1646\n",
      "4 - 5.1768\n",
      "5 - 5.1881\n",
      "6 - 5.1961\n",
      "7 - 5.201\n",
      "8 - 5.2032\n",
      "9 - 5.2176\n",
      "10 - 5.2217\n",
      "11 - 5.2408\n",
      "12 - 5.2599\n",
      "13 - 5.2605\n",
      "14 - 5.2625\n",
      "15 - 5.2633\n",
      "16 - 5.2703\n",
      "17 - 5.2808\n",
      "18 - 5.2929\n",
      "19 - 5.293\n",
      "20 - 5.3069\n",
      "21 - 5.307\n",
      "22 - 5.325\n",
      "23 - 5.3257\n",
      "24 - 5.3284\n",
      "25 - 5.376\n",
      "26 - 5.3791\n",
      "27 - 5.3906\n",
      "28 - 5.3973\n",
      "29 - 5.4084\n"
     ]
    }
   ],
   "source": [
    "cotacoes = requests.get('https://economia.awesomeapi.com.br/json/daily/USD-BRL/30')\n",
    "\n",
    "cotacoes_dic = cotacoes.json()\n",
    "lista = [float(item['bid']) for item in cotacoes_dic]\n",
    "lista.sort()\n",
    "for i, cotação in enumerate(lista): \n",
    "    print(i,'-',cotação)"
   ]
  },
  {
   "cell_type": "markdown",
   "metadata": {},
   "source": [
    "### Pegar as cotações do BitCoin de Jan/20 a Out/20"
   ]
  },
  {
   "cell_type": "code",
   "execution_count": 17,
   "metadata": {},
   "outputs": [
    {
     "name": "stdout",
     "output_type": "stream",
     "text": [
      "0 - 215.993\n",
      "1 - 213.025\n",
      "2 - 205.401\n",
      "3 - 208.521\n",
      "4 - 200.711\n",
      "5 - 202.882\n",
      "6 - 200.638\n",
      "7 - 187.27\n",
      "8 - 189.366\n",
      "9 - 194.343\n",
      "10 - 188.884\n",
      "11 - 191.721\n",
      "12 - 191.719\n",
      "13 - 188.05\n",
      "14 - 190.949\n",
      "15 - 194.746\n",
      "16 - 192.54\n",
      "17 - 188.792\n",
      "18 - 191.62\n",
      "19 - 190.509\n",
      "20 - 190.606\n",
      "21 - 197.622\n",
      "22 - 191.12\n",
      "23 - 195.346\n",
      "24 - 197.312\n",
      "25 - 192.795\n",
      "26 - 188.645\n",
      "27 - 192.293\n",
      "28 - 195.355\n",
      "29 - 188.256\n",
      "30 - 195.505\n",
      "31 - 185.115\n",
      "32 - 184.1\n",
      "33 - 181.907\n",
      "34 - 175.173\n",
      "35 - 157.15\n",
      "36 - 160.658\n",
      "37 - 149.904\n",
      "38 - 150.194\n",
      "39 - 149.469\n",
      "40 - 154.052\n",
      "41 - 159.962\n",
      "42 - 152.0\n",
      "43 - 151.288\n",
      "44 - 143.8\n",
      "45 - 150.384\n",
      "46 - 143.8\n",
      "47 - 144.822\n",
      "48 - 149.009\n",
      "49 - 141.526\n",
      "50 - 144.212\n",
      "51 - 143.115\n",
      "52 - 141.501\n",
      "53 - 136.127\n",
      "54 - 138.505\n",
      "55 - 140.252\n",
      "56 - 151.656\n",
      "57 - 151.5\n",
      "58 - 144.111\n",
      "59 - 146.444\n",
      "60 - 142.653\n",
      "61 - 143.636\n",
      "62 - 143.803\n",
      "63 - 150.785\n",
      "64 - 152.318\n",
      "65 - 148.3\n",
      "66 - 148.196\n",
      "67 - 145.667\n",
      "68 - 142.4\n",
      "69 - 135.022\n",
      "70 - 115.997\n",
      "71 - 114.789\n",
      "72 - 114.718\n",
      "73 - 104.107\n",
      "74 - 106.059\n",
      "75 - 98.621\n",
      "76 - 106.4\n",
      "77 - 107.183\n",
      "78 - 106.356\n",
      "79 - 104.086\n",
      "80 - 110.909\n",
      "81 - 111.129\n",
      "82 - 112.62\n",
      "83 - 110.578\n",
      "84 - 108.637\n",
      "85 - 106.937\n",
      "86 - 104.62\n",
      "87 - 100.59\n",
      "88 - 102.6\n",
      "89 - 102.546\n",
      "90 - 102.933\n",
      "91 - 107.592\n",
      "92 - 108.19\n",
      "93 - 111.359\n",
      "94 - 115.424\n",
      "95 - 114.458\n",
      "96 - 113.87\n",
      "97 - 110.25\n",
      "98 - 107.486\n",
      "99 - 105.137\n",
      "100 - 109.33\n",
      "101 - 111.803\n",
      "102 - 112.789\n",
      "103 - 114.593\n",
      "104 - 112.461\n",
      "105 - 122.063\n",
      "106 - 126.868\n",
      "107 - 127.927\n",
      "108 - 127.313\n",
      "109 - 125.17\n",
      "110 - 123.915\n",
      "111 - 124.7\n",
      "112 - 116.034\n",
      "113 - 114.035\n",
      "114 - 120.797\n",
      "115 - 124.207\n",
      "116 - 123.8\n",
      "117 - 123.033\n",
      "118 - 122.358\n",
      "119 - 113.5\n",
      "120 - 121.625\n",
      "121 - 121.087\n",
      "122 - 118.609\n",
      "123 - 120.681\n",
      "124 - 119.157\n",
      "125 - 120.246\n",
      "126 - 122.115\n",
      "127 - 119.318\n",
      "128 - 122.265\n",
      "129 - 123.405\n",
      "130 - 124.19\n",
      "131 - 124.545\n",
      "132 - 124.133\n",
      "133 - 123.454\n",
      "134 - 123.063\n",
      "135 - 120.902\n",
      "136 - 120.563\n",
      "137 - 108.945\n",
      "138 - 110.351\n",
      "139 - 112.218\n",
      "140 - 110.0\n",
      "141 - 110.366\n",
      "142 - 109.862\n",
      "143 - 110.875\n",
      "144 - 103.227\n",
      "145 - 102.25\n",
      "146 - 100.039\n",
      "147 - 102.647\n",
      "148 - 102.1\n",
      "149 - 103.991\n",
      "150 - 105.325\n",
      "151 - 103.489\n",
      "152 - 102.927\n",
      "153 - 103.553\n",
      "154 - 102.379\n",
      "155 - 99.2\n",
      "156 - 101.359\n",
      "157 - 100.832\n",
      "158 - 110.278\n",
      "159 - 111.933\n",
      "160 - 112.31\n",
      "161 - 114.049\n",
      "162 - 105.052\n",
      "163 - 104.667\n",
      "164 - 103.6\n",
      "165 - 104.249\n",
      "166 - 106.102\n",
      "167 - 102.316\n",
      "168 - 101.667\n",
      "169 - 97.6\n",
      "170 - 96.306\n",
      "171 - 99.774\n",
      "172 - 101.522\n",
      "173 - 99.116\n",
      "174 - 98.5\n",
      "175 - 102.245\n",
      "176 - 102.099\n",
      "177 - 104.166\n",
      "178 - 105.298\n",
      "179 - 104.594\n",
      "180 - 103.799\n",
      "181 - 102.584\n",
      "182 - 101.796\n",
      "183 - 105.744\n",
      "184 - 105.06\n",
      "185 - 104.672\n",
      "186 - 102.139\n",
      "187 - 101.61\n",
      "188 - 101.76\n",
      "189 - 99.97\n",
      "190 - 101.062\n",
      "191 - 101.308\n",
      "192 - 101.962\n",
      "193 - 102.154\n",
      "194 - 101.649\n",
      "195 - 102.359\n",
      "196 - 103.035\n",
      "197 - 101.82\n",
      "198 - 101.416\n",
      "199 - 100.122\n"
     ]
    }
   ],
   "source": [
    "cotacoes_bitc = requests.get('https://economia.awesomeapi.com.br/json/daily/BTC-BRL/200?start_date=20220101&end_date=20221020')\n",
    "\n",
    "cotacoes_dic = cotacoes_bitc.json()\n",
    "lista_btc = [float(item['bid']) for item in cotacoes_dic]\n",
    "lista_btc.reverse()\n",
    "for i, cotação in enumerate(lista_btc): \n",
    "    print(i,'-',cotação)"
   ]
  },
  {
   "cell_type": "markdown",
   "metadata": {},
   "source": [
    "#### Gráfico com as cotações do BitCoin"
   ]
  },
  {
   "cell_type": "code",
   "execution_count": 18,
   "metadata": {},
   "outputs": [
    {
     "data": {
      "image/png": "[encoded data removed]",
      "text/plain": [
       "<Figure size 1080x360 with 1 Axes>"
      ]
     },
     "metadata": {
      "needs_background": "light"
     },
     "output_type": "display_data"
    }
   ],
   "source": [
    "import matplotlib.pyplot as plt\n",
    "plt.figure(figsize = (15 , 5))\n",
    "plt.plot(lista_btc, color = 'green')\n",
    "plt.show()"
   ]
  }
 ],
 "metadata": {
  "kernelspec": {
   "display_name": "Python 3",
   "language": "python",
   "name": "python3"
  },
  "language_info": {
   "codemirror_mode": {
    "name": "ipython",
    "version": 3
   },
   "file_extension": ".py",
   "mimetype": "text/x-python",
   "name": "python",
   "nbconvert_exporter": "python",
   "pygments_lexer": "ipython3",
   "version": "3.8.5"
  }
 },
 "nbformat": 4,
 "nbformat_minor": 4
}
