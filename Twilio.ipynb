{
 "cells": [
  {
   "cell_type": "code",
   "execution_count": 1,
   "metadata": {},
   "outputs": [
    {
     "name": "stdout",
     "output_type": "stream",
     "text": [
      "SM327df57a6f6544b380b6969e16087db2\n"
     ]
    }
   ],
   "source": [
    "import os\n",
    "from twilio.rest import Client\n",
    "\n",
    "account_sid = 'ACcdf62373ff8cd743daef9b32630c6689'\n",
    "token = '4561c0ce0a87186f8c8b5247fcf27c21'\n",
    "\n",
    "client = Client(account_sid , token)\n",
    "\n",
    "remetente = \"+12187890807\"\n",
    "destino = \"+5511934924789\"\n",
    "\n",
    "message = client.messages.create(\n",
    "    to=destino,\n",
    "    from_=remetente, \n",
    "    body=\"Mandando primeiro SMS com pyhton\")\n",
    "\n",
    "print(message.sid)\n",
    "\n",
    "\n",
    "\n"
   ]
  }
 ],
 "metadata": {
  "kernelspec": {
   "display_name": "Python 3",
   "language": "python",
   "name": "python3"
  },
  "language_info": {
   "codemirror_mode": {
    "name": "ipython",
    "version": 3
   },
   "file_extension": ".py",
   "mimetype": "text/x-python",
   "name": "python",
   "nbconvert_exporter": "python",
   "pygments_lexer": "ipython3",
   "version": "3.8.5"
  }
 },
 "nbformat": 4,
 "nbformat_minor": 4
}
