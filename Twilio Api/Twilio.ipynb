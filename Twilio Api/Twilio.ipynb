{
 "cells": [
  {
   "cell_type": "code",
   "execution_count": 1,
   "metadata": {},
   "outputs": [
    {
     "name": "stdout",
     "output_type": "stream",
     "text": [
      "SM327df57a6f6544b380b6969e16087db2\n"
     ]
    }
   ],
   "source": [
    "import os\n",
    "from twilio.rest import Client\n",
    "\n",
    "account_sid = '<SID da conta do Twilio>'\n",
    "token = '<Token de Autenticação>'\n",
    "\n",
    "client = Client(account_sid , token)\n",
    "\n",
    "remetente = \"<número gerado pelo Twilio>\"\n",
    "destino = \"+55<(ddd)seu número>\"\n",
    "\n",
    "message = client.messages.create(\n",
    "    to=destino,\n",
    "    from_=remetente, \n",
    "    body=\"Mensagem\")\n",
    "\n",
    "print(message.sid)\n",
    "\n",
    "\n",
    "\n"
   ]
  }
 ],
 "metadata": {
  "kernelspec": {
   "display_name": "Python 3",
   "language": "python",
   "name": "python3"
  },
  "language_info": {
   "codemirror_mode": {
    "name": "ipython",
    "version": 3
   },
   "file_extension": ".py",
   "mimetype": "text/x-python",
   "name": "python",
   "nbconvert_exporter": "python",
   "pygments_lexer": "ipython3",
   "version": "3.8.5"
  }
 },
 "nbformat": 4,
 "nbformat_minor": 4
}
